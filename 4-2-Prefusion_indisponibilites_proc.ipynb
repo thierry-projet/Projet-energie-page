{
 "cells": [
  {
   "cell_type": "code",
   "execution_count": 1,
   "id": "41fce0e6-6d5b-4081-bdbb-c276133308b0",
   "metadata": {},
   "outputs": [],
   "source": [
    " # Préparation du fichier preprocessé des indisponibilités des centrales de productionavant fusion avec le fichier des capacités de production"
   ]
  },
  {
   "cell_type": "code",
   "execution_count": 2,
   "id": "089b04b2-9d4d-430d-a1ee-967f6b3ffb3f",
   "metadata": {},
   "outputs": [
    {
     "data": {
      "text/plain": [
       "'\\nCreated on 2024-06-23\\n\\n@author: Thierry ALLEM\\n'"
      ]
     },
     "execution_count": 2,
     "metadata": {},
     "output_type": "execute_result"
    }
   ],
   "source": [
    "\"\"\"\n",
    "Created on 2024-06-23\n",
    "\n",
    "@author: Thierry ALLEM\n",
    "\"\"\""
   ]
  },
  {
   "cell_type": "code",
   "execution_count": 3,
   "id": "7730f207-f129-4721-b901-21e36d86940e",
   "metadata": {},
   "outputs": [],
   "source": [
    "import numpy as np\n",
    "import pandas as pd\n",
    "import seaborn as sns\n",
    "import datetime\n",
    "import matplotlib.pyplot as plt"
   ]
  },
  {
   "cell_type": "code",
   "execution_count": 4,
   "id": "9eeac8ab-0276-483b-9a8a-d98187c4583e",
   "metadata": {},
   "outputs": [
    {
     "name": "stdout",
     "output_type": "stream",
     "text": [
      "<class 'pandas.core.frame.DataFrame'>\n",
      "RangeIndex: 67310469 entries, 0 to 67310468\n",
      "Data columns (total 7 columns):\n",
      " #   Column                 Dtype  \n",
      "---  ------                 -----  \n",
      " 0   region                 object \n",
      " 1   filiere_globale        object \n",
      " 2   code_eic_centrale      object \n",
      " 3   capacite_installee     float64\n",
      " 4   capacite_disponible    float64\n",
      " 5   capacite_indisponible  float64\n",
      " 6   date                   object \n",
      "dtypes: float64(3), object(4)\n",
      "memory usage: 3.5+ GB\n",
      "<class 'pandas.core.frame.DataFrame'>\n",
      "RangeIndex: 67310469 entries, 0 to 67310468\n",
      "Data columns (total 8 columns):\n",
      " #   Column                 Dtype         \n",
      "---  ------                 -----         \n",
      " 0   region                 object        \n",
      " 1   filiere_globale        object        \n",
      " 2   code_eic_centrale      object        \n",
      " 3   capacite_installee     float64       \n",
      " 4   capacite_disponible    float64       \n",
      " 5   capacite_indisponible  float64       \n",
      " 6   date                   object        \n",
      " 7   date_debut             datetime64[ns]\n",
      "dtypes: datetime64[ns](1), float64(3), object(4)\n",
      "memory usage: 4.0+ GB\n"
     ]
    }
   ],
   "source": [
    "#==========================  CHARGEMENT des fichiers d'indisponibilités des moyens de production de 2013 à 2022 ===============================================================================\n",
    "df_result_ind_prod = pd.read_csv('df_result_ind_prod.csv', sep=',',encoding='latin-1')\n",
    "df_result_ind_prod.info()\n",
    "\n",
    "# Conversion de la colonne 'date' en datetime\n",
    "df_result_ind_prod['date_debut'] = pd.to_datetime(df_result_ind_prod['date'])\n",
    "df_result_ind_prod.info()"
   ]
  },
  {
   "cell_type": "code",
   "execution_count": 5,
   "id": "074d9ca4-5a12-47df-974c-a2fc129e1a10",
   "metadata": {},
   "outputs": [
    {
     "data": {
      "text/plain": [
       "region                   0\n",
       "filiere_globale          0\n",
       "code_eic_centrale        0\n",
       "capacite_installee       0\n",
       "capacite_disponible      0\n",
       "capacite_indisponible    0\n",
       "date                     0\n",
       "date_debut               0\n",
       "dtype: int64"
      ]
     },
     "execution_count": 5,
     "metadata": {},
     "output_type": "execute_result"
    }
   ],
   "source": [
    "df_result_ind_prod.isna().sum()"
   ]
  },
  {
   "cell_type": "code",
   "execution_count": 6,
   "id": "f0bbc96e-51f5-4167-b248-656b8e674af6",
   "metadata": {},
   "outputs": [],
   "source": [
    "# ===============================RECHERCHE ET TRAITEMENT DES DOUBLONS"
   ]
  },
  {
   "cell_type": "code",
   "execution_count": 7,
   "id": "b514f592-71b5-4e6d-aa52-74bee66f8112",
   "metadata": {},
   "outputs": [
    {
     "name": "stdout",
     "output_type": "stream",
     "text": [
      "Nombre total de lignes en doublons : 59214038\n"
     ]
    }
   ],
   "source": [
    "doublons = df_result_ind_prod.duplicated(subset=['region', 'filiere_globale', 'code_eic_centrale', 'date']).sum()\n",
    "\n",
    "print(f\"Nombre total de lignes en doublons : {doublons}\")"
   ]
  },
  {
   "cell_type": "code",
   "execution_count": 34,
   "id": "7e2f8fcb-9fb1-447c-ac32-429eb4dc2850",
   "metadata": {},
   "outputs": [],
   "source": [
    "#    Filtration des doublons et copie dans un nouveau DataFrame\n",
    "nouveau_dataframe_doublons =df_result_ind_prod[df_result_ind_prod.duplicated(subset=['region', 'filiere_globale', 'code_eic_centrale', 'date'], keep=False)]"
   ]
  },
  {
   "cell_type": "code",
   "execution_count": 35,
   "id": "b0068750-5a74-4478-ae19-fe6ad36cf44c",
   "metadata": {},
   "outputs": [
    {
     "name": "stdout",
     "output_type": "stream",
     "text": [
      "1000 premières lignes du dataframe ind_prod_comp exporté avec succès dans le fichier 'ind_prod_comp1000.csv'.\n"
     ]
    }
   ],
   "source": [
    "#   Export des 1000 premières lignes du DataFrame original\n",
    "file_export = 'df_result_ind_prod1000.csv'\n",
    "nouveau_dataframe_doublons.head(10000).to_csv(file_export, index=False)\n",
    "print(\"1000 premières lignes du dataframe ind_prod_comp exporté avec succès dans le fichier 'ind_prod_comp1000.csv'.\")"
   ]
  },
  {
   "cell_type": "code",
   "execution_count": 36,
   "id": "84c24431-182b-4d6c-86d5-5e5406e91934",
   "metadata": {},
   "outputs": [],
   "source": [
    "#   Suppression des doublons en ne conservant que la 1ère occurence\n",
    "df_result_ind_prod_clean = df_result_ind_prod.drop_duplicates(subset=['region', 'filiere_globale', 'code_eic_centrale', 'date'], keep='first')"
   ]
  },
  {
   "cell_type": "code",
   "execution_count": 37,
   "id": "1bed8552-cd7f-4dcf-86e2-d3fbab1db36e",
   "metadata": {},
   "outputs": [
    {
     "name": "stdout",
     "output_type": "stream",
     "text": [
      "Nombre de lignes après suppression des doublons : 8096431\n"
     ]
    }
   ],
   "source": [
    "# Afficher le nombre de lignes après suppression des doublons\n",
    "print(f\"Nombre de lignes après suppression des doublons : {len(df_result_ind_prod_clean)}\")"
   ]
  },
  {
   "cell_type": "code",
   "execution_count": 38,
   "id": "ad841c19-3575-4fed-9244-1866021bd2b6",
   "metadata": {},
   "outputs": [],
   "source": [
    "doublons2 = df_result_ind_prod_clean.duplicated(subset=['region', 'filiere_globale', 'code_eic_centrale', 'date']).sum()"
   ]
  },
  {
   "cell_type": "code",
   "execution_count": 39,
   "id": "b052f070-2957-49da-b2a6-60356cd64960",
   "metadata": {},
   "outputs": [
    {
     "name": "stdout",
     "output_type": "stream",
     "text": [
      "Nombre total de lignes en doublons après nettoyage: 0\n"
     ]
    }
   ],
   "source": [
    "print(f\"Nombre total de lignes en doublons après nettoyage: {doublons2}\")"
   ]
  },
  {
   "cell_type": "code",
   "execution_count": 40,
   "id": "f53bd08e-6522-4561-9bef-f26ebaaf4bf0",
   "metadata": {},
   "outputs": [
    {
     "name": "stdout",
     "output_type": "stream",
     "text": [
      "<class 'pandas.core.frame.DataFrame'>\n",
      "Index: 8096431 entries, 0 to 67306212\n",
      "Data columns (total 8 columns):\n",
      " #   Column                 Dtype         \n",
      "---  ------                 -----         \n",
      " 0   region                 object        \n",
      " 1   filiere_globale        object        \n",
      " 2   code_eic_centrale      object        \n",
      " 3   capacite_installee     float64       \n",
      " 4   capacite_disponible    float64       \n",
      " 5   capacite_indisponible  float64       \n",
      " 6   date                   object        \n",
      " 7   date_debut             datetime64[ns]\n",
      "dtypes: datetime64[ns](1), float64(3), object(4)\n",
      "memory usage: 555.9+ MB\n"
     ]
    }
   ],
   "source": [
    "df_result_ind_prod_clean.info()"
   ]
  },
  {
   "cell_type": "code",
   "execution_count": 41,
   "id": "16145c1d-a951-4f27-878c-d29939445008",
   "metadata": {},
   "outputs": [],
   "source": [
    "# Regroupement par 'region', 'filiere_globale' et 'date' en sommant les  valeurs de 'capacite_indisponible' et 'capacite_disponible'\n",
    "\n",
    "df_result_ind_prod_prefusion = df_result_ind_prod_clean.groupby(['region', 'filiere_globale', 'date'])[['capacite_indisponible']].sum().reset_index()"
   ]
  },
  {
   "cell_type": "code",
   "execution_count": 42,
   "id": "5f3d0e7c-3180-485e-8b6d-9faf834a000b",
   "metadata": {},
   "outputs": [],
   "source": [
    "# Renommage de la colonne des filières\n",
    "dictionnaire= {'filiere_globale':'filiere'}\n",
    "df_result_ind_prod_prefusion=df_result_ind_prod_prefusion.rename(dictionnaire, axis = 1)"
   ]
  },
  {
   "cell_type": "code",
   "execution_count": 43,
   "id": "32b5f13d-7b01-464d-b04f-08585f7699d2",
   "metadata": {},
   "outputs": [
    {
     "name": "stdout",
     "output_type": "stream",
     "text": [
      "                             region      filiere                 date  \\\n",
      "0              AUVERGNE RHONE ALPES  hydraulique  2013-01-01 17:30:00   \n",
      "1              AUVERGNE RHONE ALPES  hydraulique  2013-01-01 18:00:00   \n",
      "2              AUVERGNE RHONE ALPES  hydraulique  2013-01-01 18:30:00   \n",
      "3              AUVERGNE RHONE ALPES  hydraulique  2013-01-01 19:00:00   \n",
      "4              AUVERGNE RHONE ALPES  hydraulique  2013-01-04 00:30:00   \n",
      "...                             ...          ...                  ...   \n",
      "2424695  PROVENCE ALPES COTE D AZUR    thermique  2022-12-31 21:00:00   \n",
      "2424696  PROVENCE ALPES COTE D AZUR    thermique  2022-12-31 21:30:00   \n",
      "2424697  PROVENCE ALPES COTE D AZUR    thermique  2022-12-31 22:00:00   \n",
      "2424698  PROVENCE ALPES COTE D AZUR    thermique  2022-12-31 22:30:00   \n",
      "2424699  PROVENCE ALPES COTE D AZUR    thermique  2022-12-31 23:00:00   \n",
      "\n",
      "         capacite_indisponible  \n",
      "0                        180.0  \n",
      "1                        180.0  \n",
      "2                        180.0  \n",
      "3                        180.0  \n",
      "4                        259.0  \n",
      "...                        ...  \n",
      "2424695                   62.0  \n",
      "2424696                   62.0  \n",
      "2424697                   62.0  \n",
      "2424698                   62.0  \n",
      "2424699                   62.0  \n",
      "\n",
      "[2424700 rows x 4 columns]\n"
     ]
    }
   ],
   "source": [
    "# Le résultat est un nouveau dataframe 'grouped_df' avec les valeurs sommées\n",
    "print(df_result_ind_prod_prefusion)"
   ]
  },
  {
   "cell_type": "code",
   "execution_count": 44,
   "id": "4ab0aca7-8e74-4f76-9e46-ade53fffc3b5",
   "metadata": {},
   "outputs": [
    {
     "name": "stdout",
     "output_type": "stream",
     "text": [
      "Dataframe 'df_result_ind_prod_fusion' exporté avec succès dans le fichier 'df_result_ind_prod_prefusion.csv'.\n"
     ]
    }
   ],
   "source": [
    "#   Export du dataframe néttoyé et regroupé  qui sera ensuite fusionné avec eco2mix et cap_prod\n",
    "file_export = 'df_result_ind_prod_prefusion.csv'\n",
    "df_result_ind_prod_prefusion.to_csv(file_export, index=False, sep = ';')\n",
    "print(\"Dataframe 'df_result_ind_prod_fusion' exporté avec succès dans le fichier 'df_result_ind_prod_prefusion.csv'.\")"
   ]
  },
  {
   "cell_type": "code",
   "execution_count": 45,
   "id": "37ef8544-d296-4bdc-8cc2-967ba0286eba",
   "metadata": {},
   "outputs": [],
   "source": [
    "# Export des 100 premières lignes dans un nouveau fichier CSV pour aperçu\n",
    "df_result_ind_prod_prefusion_head = df_result_ind_prod_prefusion.head(100)\n",
    "df_result_ind_prod_prefusion_head.to_csv('df_result_ind_prod_prefusion_first_100_lines.csv', sep=';', encoding='latin-1', index=False)"
   ]
  },
  {
   "cell_type": "code",
   "execution_count": 46,
   "id": "ac418bde-7a14-4cce-a172-0c56b26de94a",
   "metadata": {},
   "outputs": [
    {
     "name": "stdout",
     "output_type": "stream",
     "text": [
      "FIN CODE VENTILATION\n"
     ]
    }
   ],
   "source": [
    "print(\"FIN CODE VENTILATION\")"
   ]
  }
 ],
 "metadata": {
  "kernelspec": {
   "display_name": "Python 3 (ipykernel)",
   "language": "python",
   "name": "python3"
  },
  "language_info": {
   "codemirror_mode": {
    "name": "ipython",
    "version": 3
   },
   "file_extension": ".py",
   "mimetype": "text/x-python",
   "name": "python",
   "nbconvert_exporter": "python",
   "pygments_lexer": "ipython3",
   "version": "3.12.9"
  }
 },
 "nbformat": 4,
 "nbformat_minor": 5
}
