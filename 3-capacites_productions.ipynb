{
 "cells": [
  {
   "cell_type": "code",
   "execution_count": 1,
   "id": "d011612a-1d50-4f4c-9e28-ef487216aec6",
   "metadata": {},
   "outputs": [
    {
     "data": {
      "text/plain": [
       "\"\\nAnalyse des capacités de productions d'électricité en métropole  française\\n\\nCreated on Wed May 29 13:54:11 2024\\n\\n@author: Thierry ALLEM\\n\""
      ]
     },
     "execution_count": 1,
     "metadata": {},
     "output_type": "execute_result"
    }
   ],
   "source": [
    "# -*- coding: utf-8 -*-\n",
    "\"\"\"\n",
    "Analyse des capacités de productions d'électricité en métropole  française\n",
    "\n",
    "Created on Wed May 29 13:54:11 2024\n",
    "\n",
    "@author: Thierry ALLEM\n",
    "\"\"\""
   ]
  },
  {
   "cell_type": "code",
   "execution_count": 2,
   "id": "fdbe163d-788d-4dfc-98de-f0f4b9fd3f2e",
   "metadata": {},
   "outputs": [],
   "source": [
    "import pandas as pd\n",
    "import datetime\n",
    "import matplotlib.pyplot as plt\n",
    "import warnings\n",
    "warnings.filterwarnings('ignore')\n",
    "\n",
    "from tqdm import tqdm # Importation de tqdm pour la barre de progression\n",
    "import chardet"
   ]
  },
  {
   "cell_type": "code",
   "execution_count": 3,
   "id": "f9c62617-3837-4ff5-9b8d-a9e27dc81a59",
   "metadata": {},
   "outputs": [
    {
     "name": "stdout",
     "output_type": "stream",
     "text": [
      "{'encoding': 'UTF-8-SIG', 'confidence': 1.0, 'language': ''}\n"
     ]
    }
   ],
   "source": [
    "# Lecture des premiers 10000 octets pour détecter l'encodage\n",
    "with open('registre_national_installation_production_stockage_electricite.csv', 'rb') as f:\n",
    "    result = chardet.detect(f.read(10000))\n",
    "    print(result)  # Affiche l'encodage détecté"
   ]
  },
  {
   "cell_type": "code",
   "execution_count": 4,
   "id": "90de9ca4-423c-4035-8f98-a40c702522b6",
   "metadata": {},
   "outputs": [
    {
     "data": {
      "text/html": [
       "<div>\n",
       "<style scoped>\n",
       "    .dataframe tbody tr th:only-of-type {\n",
       "        vertical-align: middle;\n",
       "    }\n",
       "\n",
       "    .dataframe tbody tr th {\n",
       "        vertical-align: top;\n",
       "    }\n",
       "\n",
       "    .dataframe thead th {\n",
       "        text-align: right;\n",
       "    }\n",
       "</style>\n",
       "<table border=\"1\" class=\"dataframe\">\n",
       "  <thead>\n",
       "    <tr style=\"text-align: right;\">\n",
       "      <th></th>\n",
       "      <th>nomInstallation</th>\n",
       "      <th>codeEICResourceObject</th>\n",
       "      <th>codeIRIS</th>\n",
       "      <th>codeINSEECommune</th>\n",
       "      <th>commune</th>\n",
       "      <th>codeEPCI</th>\n",
       "      <th>EPCI</th>\n",
       "      <th>codeDepartement</th>\n",
       "      <th>departement</th>\n",
       "      <th>codeRegion</th>\n",
       "      <th>...</th>\n",
       "      <th>capaciteReservoir</th>\n",
       "      <th>hauteurChute</th>\n",
       "      <th>productible</th>\n",
       "      <th>debitMaximal</th>\n",
       "      <th>codeGestionnaire</th>\n",
       "      <th>gestionnaire</th>\n",
       "      <th>energieAnnuelleGlissanteInjectee</th>\n",
       "      <th>energieAnnuelleGlissanteProduite</th>\n",
       "      <th>energieAnnuelleGlissanteSoutiree</th>\n",
       "      <th>energieAnnuelleGlissanteStockee</th>\n",
       "    </tr>\n",
       "  </thead>\n",
       "  <tbody>\n",
       "    <tr>\n",
       "      <th>0</th>\n",
       "      <td>Confidentiel</td>\n",
       "      <td>17W000000034442R</td>\n",
       "      <td>2A0010000</td>\n",
       "      <td>2A001</td>\n",
       "      <td>Afa</td>\n",
       "      <td>242010056</td>\n",
       "      <td>CA du Pays Ajaccien</td>\n",
       "      <td>2A</td>\n",
       "      <td>Corse-du-Sud</td>\n",
       "      <td>94.0</td>\n",
       "      <td>...</td>\n",
       "      <td>NaN</td>\n",
       "      <td>NaN</td>\n",
       "      <td>NaN</td>\n",
       "      <td>NaN</td>\n",
       "      <td>23X160203-000021</td>\n",
       "      <td>EDF-SEI</td>\n",
       "      <td>0.0</td>\n",
       "      <td>NaN</td>\n",
       "      <td>0.0</td>\n",
       "      <td>NaN</td>\n",
       "    </tr>\n",
       "    <tr>\n",
       "      <th>1</th>\n",
       "      <td>Confidentiel</td>\n",
       "      <td>17W0000000383544</td>\n",
       "      <td>2A0010000</td>\n",
       "      <td>2A001</td>\n",
       "      <td>Afa</td>\n",
       "      <td>242010056</td>\n",
       "      <td>CA du Pays Ajaccien</td>\n",
       "      <td>2A</td>\n",
       "      <td>Corse-du-Sud</td>\n",
       "      <td>94.0</td>\n",
       "      <td>...</td>\n",
       "      <td>NaN</td>\n",
       "      <td>NaN</td>\n",
       "      <td>NaN</td>\n",
       "      <td>NaN</td>\n",
       "      <td>23X160203-000021</td>\n",
       "      <td>EDF-SEI</td>\n",
       "      <td>0.0</td>\n",
       "      <td>NaN</td>\n",
       "      <td>0.0</td>\n",
       "      <td>NaN</td>\n",
       "    </tr>\n",
       "    <tr>\n",
       "      <th>2</th>\n",
       "      <td>Confidentiel</td>\n",
       "      <td>17W000000032988U</td>\n",
       "      <td>2A0010000</td>\n",
       "      <td>2A001</td>\n",
       "      <td>Afa</td>\n",
       "      <td>242010056</td>\n",
       "      <td>CA du Pays Ajaccien</td>\n",
       "      <td>2A</td>\n",
       "      <td>Corse-du-Sud</td>\n",
       "      <td>94.0</td>\n",
       "      <td>...</td>\n",
       "      <td>NaN</td>\n",
       "      <td>NaN</td>\n",
       "      <td>NaN</td>\n",
       "      <td>NaN</td>\n",
       "      <td>23X160203-000021</td>\n",
       "      <td>EDF-SEI</td>\n",
       "      <td>0.0</td>\n",
       "      <td>NaN</td>\n",
       "      <td>0.0</td>\n",
       "      <td>NaN</td>\n",
       "    </tr>\n",
       "    <tr>\n",
       "      <th>3</th>\n",
       "      <td>Confidentiel</td>\n",
       "      <td>17W000001336047V</td>\n",
       "      <td>2A0010000</td>\n",
       "      <td>2A001</td>\n",
       "      <td>Afa</td>\n",
       "      <td>242010056</td>\n",
       "      <td>CA du Pays Ajaccien</td>\n",
       "      <td>2A</td>\n",
       "      <td>Corse-du-Sud</td>\n",
       "      <td>94.0</td>\n",
       "      <td>...</td>\n",
       "      <td>NaN</td>\n",
       "      <td>NaN</td>\n",
       "      <td>NaN</td>\n",
       "      <td>NaN</td>\n",
       "      <td>23X160203-000021</td>\n",
       "      <td>EDF-SEI</td>\n",
       "      <td>0.0</td>\n",
       "      <td>NaN</td>\n",
       "      <td>0.0</td>\n",
       "      <td>NaN</td>\n",
       "    </tr>\n",
       "    <tr>\n",
       "      <th>4</th>\n",
       "      <td>Confidentiel</td>\n",
       "      <td>17W000001336508L</td>\n",
       "      <td>2A0010000</td>\n",
       "      <td>2A001</td>\n",
       "      <td>Afa</td>\n",
       "      <td>242010056</td>\n",
       "      <td>CA du Pays Ajaccien</td>\n",
       "      <td>2A</td>\n",
       "      <td>Corse-du-Sud</td>\n",
       "      <td>94.0</td>\n",
       "      <td>...</td>\n",
       "      <td>NaN</td>\n",
       "      <td>NaN</td>\n",
       "      <td>NaN</td>\n",
       "      <td>NaN</td>\n",
       "      <td>23X160203-000021</td>\n",
       "      <td>EDF-SEI</td>\n",
       "      <td>0.0</td>\n",
       "      <td>NaN</td>\n",
       "      <td>0.0</td>\n",
       "      <td>NaN</td>\n",
       "    </tr>\n",
       "  </tbody>\n",
       "</table>\n",
       "<p>5 rows × 49 columns</p>\n",
       "</div>"
      ],
      "text/plain": [
       "  nomInstallation codeEICResourceObject   codeIRIS codeINSEECommune commune  \\\n",
       "0    Confidentiel      17W000000034442R  2A0010000            2A001     Afa   \n",
       "1    Confidentiel      17W0000000383544  2A0010000            2A001     Afa   \n",
       "2    Confidentiel      17W000000032988U  2A0010000            2A001     Afa   \n",
       "3    Confidentiel      17W000001336047V  2A0010000            2A001     Afa   \n",
       "4    Confidentiel      17W000001336508L  2A0010000            2A001     Afa   \n",
       "\n",
       "    codeEPCI                 EPCI codeDepartement   departement  codeRegion  \\\n",
       "0  242010056  CA du Pays Ajaccien              2A  Corse-du-Sud        94.0   \n",
       "1  242010056  CA du Pays Ajaccien              2A  Corse-du-Sud        94.0   \n",
       "2  242010056  CA du Pays Ajaccien              2A  Corse-du-Sud        94.0   \n",
       "3  242010056  CA du Pays Ajaccien              2A  Corse-du-Sud        94.0   \n",
       "4  242010056  CA du Pays Ajaccien              2A  Corse-du-Sud        94.0   \n",
       "\n",
       "   ... capaciteReservoir hauteurChute productible debitMaximal  \\\n",
       "0  ...               NaN          NaN         NaN          NaN   \n",
       "1  ...               NaN          NaN         NaN          NaN   \n",
       "2  ...               NaN          NaN         NaN          NaN   \n",
       "3  ...               NaN          NaN         NaN          NaN   \n",
       "4  ...               NaN          NaN         NaN          NaN   \n",
       "\n",
       "   codeGestionnaire gestionnaire energieAnnuelleGlissanteInjectee  \\\n",
       "0  23X160203-000021      EDF-SEI                              0.0   \n",
       "1  23X160203-000021      EDF-SEI                              0.0   \n",
       "2  23X160203-000021      EDF-SEI                              0.0   \n",
       "3  23X160203-000021      EDF-SEI                              0.0   \n",
       "4  23X160203-000021      EDF-SEI                              0.0   \n",
       "\n",
       "  energieAnnuelleGlissanteProduite energieAnnuelleGlissanteSoutiree  \\\n",
       "0                              NaN                              0.0   \n",
       "1                              NaN                              0.0   \n",
       "2                              NaN                              0.0   \n",
       "3                              NaN                              0.0   \n",
       "4                              NaN                              0.0   \n",
       "\n",
       "  energieAnnuelleGlissanteStockee  \n",
       "0                             NaN  \n",
       "1                             NaN  \n",
       "2                             NaN  \n",
       "3                             NaN  \n",
       "4                             NaN  \n",
       "\n",
       "[5 rows x 49 columns]"
      ]
     },
     "execution_count": 4,
     "metadata": {},
     "output_type": "execute_result"
    }
   ],
   "source": [
    "# Chargement du fichier du registre national des installations de production et stockage d'électricité\n",
    "df_cap_prod = pd.read_csv('registre_national_installation_production_stockage_electricite.csv', sep=';',encoding= 'UTF-8-SIG', low_memory=False)\n",
    "df_cap_prod.head()"
   ]
  },
  {
   "cell_type": "code",
   "execution_count": 5,
   "id": "62f57f1c-6050-48ef-8141-349e4b9b40a0",
   "metadata": {},
   "outputs": [],
   "source": [
    "# Export des 100 premières lignes dans un nouveau fichier CSV pour aperçu\n",
    "df_cap_prod_head = df_cap_prod.head(100)\n",
    "df_cap_prod_head.to_csv('registre_national_installation_production_first_100_lines.csv', sep=';', encoding='latin-1', index=False)"
   ]
  },
  {
   "cell_type": "code",
   "execution_count": 6,
   "id": "d5b98462-54ff-4254-ae64-77baf220dbe8",
   "metadata": {},
   "outputs": [
    {
     "data": {
      "text/plain": [
       "array(['Solaire', 'Thermique non renouvelable', 'Hydraulique', 'Eolien',\n",
       "       'Bioénergies', 'Stockage non hydraulique', 'Nucléaire',\n",
       "       'thermique', 'stockage_batterie', 'Energies Marines', 'Géothermie',\n",
       "       'eolien'], dtype=object)"
      ]
     },
     "execution_count": 6,
     "metadata": {},
     "output_type": "execute_result"
    }
   ],
   "source": [
    "#   Renommage des colonnes\n",
    "\n",
    "#     Dictionnaire avec les nouveaux noms des colonnes\n",
    "\n",
    "dictionnaire_entetes = {'nomInstallation ':'nom_installation',\n",
    "                        'codeEICResourceObject':'code_EIC',\n",
    "                        'codeRegion' : 'code_region',                \n",
    "                'dateRaccordement' : 'date_raccordement',\n",
    "                'dateDeraccordement' : 'date_deraccordement',\n",
    "                'dateMiseEnService' : 'date_mise_en_service',\n",
    "                'codeFiliere' :'code_filiere',\n",
    "                'codeCombustible' : 'code_combustible',\n",
    "                'codesCombustiblesSecondaires' : 'codes_combustibles_secondaires',\n",
    "                'combustiblesSecondaires' : 'combustibles_secondaires',\n",
    "                'codeTechnologie' : 'code_technologie',\n",
    "                'typeStockage' : 'type_stockage',\n",
    "                'puisMaxInstallee' : 'puis_max_installee',\n",
    "                'puisMaxRacCharge' : 'puis_max_rac_charge',\n",
    "                'puisMaxCharge' : 'puis_max_charge',\n",
    "                'puisMaxRac' : 'puis_max_rac',\n",
    "                'puisMaxInstalleeDisCharge' : 'puis_max_installee_discharge',\n",
    "                'energieStockable' : 'energie_stockable',\n",
    "                'energieAnnuelleGlissanteInjectee' : 'energie_annuelle_glissante_injectee',\n",
    "                'energieAnnuelleGlissanteProduite' : 'energie_annuelle_glissante_produite',\n",
    "                'energieAnnuelleGlissanteSoutiree' : 'energie_annuelle_glissante_soutiree',\n",
    "                'energieAnnuelleGlissanteStockee' : 'energie_annuelle_glissante_stockee'}\n",
    "                \n",
    "df_cap_prod=df_cap_prod.rename(dictionnaire_entetes, axis = 1)\n",
    "df_cap_prod['filiere'].unique()"
   ]
  },
  {
   "cell_type": "code",
   "execution_count": 7,
   "id": "2ced9b5a-994e-4565-a549-646076711a42",
   "metadata": {},
   "outputs": [
    {
     "name": "stdout",
     "output_type": "stream",
     "text": [
      "Nombre de lignes du dataframe :  73693\n",
      "Nombre de colonnes du dataframe :  49\n",
      "Valeurs uniques de la colonne 'region' : ['Corse' 'Auvergne-Rhône-Alpes' 'Hauts-de-France'\n",
      " \"Provence-Alpes-Côte d'Azur\" 'Grand Est' 'Occitanie' 'Normandie'\n",
      " 'Nouvelle-Aquitaine' 'Centre-Val de Loire' 'Bourgogne-Franche-Comté'\n",
      " 'Bretagne' 'Pays de la Loire' 'Île-de-France' 'Guadeloupe' 'Martinique'\n",
      " 'Guyane' 'La Réunion' nan]\n",
      "Types de valeurs : object     32\n",
      "float64    16\n",
      "int64       1\n",
      "Name: count, dtype: int64\n",
      "<class 'pandas.core.frame.DataFrame'>\n",
      "RangeIndex: 73693 entries, 0 to 73692\n",
      "Data columns (total 49 columns):\n",
      " #   Column                               Non-Null Count  Dtype  \n",
      "---  ------                               --------------  -----  \n",
      " 0   nomInstallation                      73693 non-null  object \n",
      " 1   code_EIC                             52279 non-null  object \n",
      " 2   codeIRIS                             43125 non-null  object \n",
      " 3   codeINSEECommune                     72397 non-null  object \n",
      " 4   commune                              72376 non-null  object \n",
      " 5   codeEPCI                             73290 non-null  object \n",
      " 6   EPCI                                 73290 non-null  object \n",
      " 7   codeDepartement                      73654 non-null  object \n",
      " 8   departement                          73633 non-null  object \n",
      " 9   code_region                          73683 non-null  float64\n",
      " 10  region                               73662 non-null  object \n",
      " 11  codeIRISCommuneImplantation          6387 non-null   object \n",
      " 12  codeINSEECommuneImplantation         52276 non-null  object \n",
      " 13  codeS3RENR                           43862 non-null  object \n",
      " 14  date_raccordement                    71305 non-null  object \n",
      " 15  date_deraccordement                  40 non-null     object \n",
      " 16  date_mise_en_service                 73315 non-null  object \n",
      " 17  dateDebutVersion                     52279 non-null  object \n",
      " 18  posteSource                          45699 non-null  object \n",
      " 19  tensionRaccordement                  73693 non-null  object \n",
      " 20  modeRaccordement                     52279 non-null  object \n",
      " 21  code_filiere                         73693 non-null  object \n",
      " 22  filiere                              73693 non-null  object \n",
      " 23  code_combustible                     2469 non-null   object \n",
      " 24  combustible                          1522 non-null   object \n",
      " 25  codes_combustibles_secondaires       58 non-null     object \n",
      " 26  combustibles_secondaires             51 non-null     object \n",
      " 27  code_technologie                     70674 non-null  object \n",
      " 28  technologie                          70674 non-null  object \n",
      " 29  type_stockage                        346 non-null    object \n",
      " 30  puis_max_installee                   73498 non-null  float64\n",
      " 31  puis_max_rac_charge                  3768 non-null   float64\n",
      " 32  puis_max_charge                      3791 non-null   float64\n",
      " 33  puis_max_rac                         69991 non-null  float64\n",
      " 34  puis_max_installee_discharge         3205 non-null   float64\n",
      " 35  nbGroupes                            6820 non-null   float64\n",
      " 36  nbInstallations                      73693 non-null  int64  \n",
      " 37  regime                               52279 non-null  object \n",
      " 38  energie_stockable                    66975 non-null  float64\n",
      " 39  capaciteReservoir                    66966 non-null  float64\n",
      " 40  hauteurChute                         66258 non-null  float64\n",
      " 41  productible                          66966 non-null  float64\n",
      " 42  debitMaximal                         65849 non-null  float64\n",
      " 43  codeGestionnaire                     52279 non-null  object \n",
      " 44  gestionnaire                         52279 non-null  object \n",
      " 45  energie_annuelle_glissante_injectee  72076 non-null  float64\n",
      " 46  energie_annuelle_glissante_produite  924 non-null    float64\n",
      " 47  energie_annuelle_glissante_soutiree  6787 non-null   float64\n",
      " 48  energie_annuelle_glissante_stockee   0 non-null      float64\n",
      "dtypes: float64(16), int64(1), object(32)\n",
      "memory usage: 27.5+ MB\n"
     ]
    }
   ],
   "source": [
    "# Affichage du nombre de lignes et colonnes du dataframe et décompte des types des valeurs\n",
    "\n",
    "print(\"Nombre de lignes du dataframe : \", len(df_cap_prod.index))\n",
    "print(\"Nombre de colonnes du dataframe : \", len(df_cap_prod.columns))\n",
    "print(\"Valeurs uniques de la colonne 'region' :\", df_cap_prod['region'].unique())\n",
    "print(\"Types de valeurs :\",df_cap_prod.dtypes.value_counts() )\n",
    "df_cap_prod.info()\n"
   ]
  },
  {
   "cell_type": "code",
   "execution_count": 8,
   "id": "bc4ea35d-75ca-49e2-bfe5-54fc63bc3184",
   "metadata": {},
   "outputs": [
    {
     "name": "stdout",
     "output_type": "stream",
     "text": [
      "Rapport préliminaire d'exploration des colonnes du dataframe 'registre_national_installation_production_stockage_electricite' exporté avec succès dans le fichier Excel '2_Rapp_explo_col_registre_prod.xlsx'\n"
     ]
    }
   ],
   "source": [
    "# DESCRIPTION DES COLONNES\n",
    "#    Création d'un dataframe de description des colonnes de df_cap_prod, sans regroupement par region\n",
    "\n",
    "df_colonnes = pd.DataFrame()\n",
    "\n",
    "#   Stockage du noms des colonnes du  dataframe df_cap_prod\n",
    "df_colonnes['Nom_colonne'] = list(df_cap_prod.columns)\n",
    "\n",
    "#   Affichage du type des valeurs des colonnes de df\n",
    "df_colonnes.index = df_cap_prod.columns\n",
    "types_valeurs = df_cap_prod.dtypes\n",
    "df_colonnes['Type_valeurs'] = types_valeurs\n",
    "\n",
    "#   Affichage des valeurs uniques\n",
    "\n",
    "df_colonnes.insert(loc=len(df_colonnes.columns), column='Valeurs_uniques', value='Valeurs continues')\n",
    "\n",
    "df_colonnes.loc[(df_colonnes['Nom_colonne'] =='code_region'),'Valeurs_uniques'] = str(df_cap_prod['code_region'].unique())\n",
    "df_colonnes.loc[(df_colonnes['Nom_colonne'] =='region'),'Valeurs_uniques'] = str(df_cap_prod['region'].unique())\n",
    "df_colonnes.loc[(df_colonnes['Nom_colonne'] =='code_filiere'),'Valeurs_uniques'] = str(df_cap_prod['code_filiere'].unique())\n",
    "df_colonnes.loc[(df_colonnes['Nom_colonne'] =='filiere_production'),'Valeurs_uniques'] = str(df_cap_prod['filiere'].unique())\n",
    "df_colonnes.loc[(df_colonnes['Nom_colonne'] =='code_combustible'),'Valeurs_uniques'] = str(df_cap_prod['code_combustible'].unique())\n",
    "df_colonnes.loc[(df_colonnes['Nom_colonne'] =='combustible'),'Valeurs_uniques'] = str(df_cap_prod['combustible'].unique())\n",
    "df_colonnes.loc[(df_colonnes['Nom_colonne'] =='combustibles_secondaires'),'Valeurs_uniques'] = str(df_cap_prod['combustibles_secondaires'].unique())\n",
    "df_colonnes.loc[(df_colonnes['Nom_colonne'] =='code_technologie'),'Valeurs_uniques'] = str(df_cap_prod['code_technologie'].unique())\n",
    "df_colonnes.loc[(df_colonnes['Nom_colonne'] =='technologie'),'Valeurs_uniques'] = str(df_cap_prod['technologie'].unique())\n",
    "df_colonnes.loc[(df_colonnes['Nom_colonne'] =='type_stockage'),'Valeurs_uniques'] = str(df_cap_prod['type_stockage'].unique())\n",
    "\n",
    "pd.set_option('display.max_colwidth', None)\n",
    "#   Affichage du nombre de valeurs des colonnes de df\n",
    "df_colonnes['Nb_valeurs'] = df_cap_prod.count()\n",
    "\n",
    "#   Affichage des NaN\n",
    "\n",
    "#        Affichage du nombre de NaN de chaque colonne\n",
    "df_colonnes['nb_NaN'] = df_cap_prod.isna().sum()\n",
    "\n",
    "#        Quantité totale de 'valeurs' + 'NaN'\n",
    "df_colonnes['Nb_datas'] = df_colonnes['Nb_valeurs']+df_colonnes['nb_NaN']\n",
    "\n",
    "#       Affichage du % de données manquantes\n",
    "df_colonnes['%_Valeurs'] = round(df_colonnes['Nb_valeurs']/df_colonnes['Nb_datas']*100,2)\n",
    "df_colonnes['%_NaN'] =round(df_cap_prod.isna().sum() /df_colonnes['Nb_datas']*100,2)\n",
    "\n",
    "\n",
    "#   Export du compte-rendu des colonnes dans un fichier Excel\n",
    "\n",
    "file_export2 ='2_Rapp_explo_col_registre_prod.xlsx'\n",
    "\n",
    "df_colonnes.to_excel(file_export2)\n",
    "\n",
    "print(\"Rapport préliminaire d'exploration des colonnes du dataframe 'registre_national_installation_production_stockage_electricite' exporté avec succès dans le fichier Excel '2_Rapp_explo_col_registre_prod.xlsx'\")"
   ]
  },
  {
   "cell_type": "code",
   "execution_count": 9,
   "id": "9db86f62-aea5-4186-8cc8-d34c90689391",
   "metadata": {},
   "outputs": [],
   "source": [
    "# Suppression des lignes associées à des régions non traitées dans le projet Eco2Mix\n",
    "regions_to_remove = ['Corse', 'Guadeloupe', 'Martinique', 'Guyane', 'La Réunion']\n",
    "df_cap_prod = df_cap_prod[df_cap_prod['region'].isin(regions_to_remove) ==False]\n"
   ]
  },
  {
   "cell_type": "code",
   "execution_count": 10,
   "id": "b48a772d-57ac-4ba7-a999-57a20950723f",
   "metadata": {},
   "outputs": [
    {
     "name": "stdout",
     "output_type": "stream",
     "text": [
      "['nomInstallation', 'code_EIC', 'codeIRIS', 'codeINSEECommune', 'commune', 'codeEPCI', 'EPCI', 'codeDepartement', 'departement', 'code_region', 'region', 'codeIRISCommuneImplantation', 'codeINSEECommuneImplantation', 'codeS3RENR', 'date_raccordement', 'date_deraccordement', 'date_mise_en_service', 'dateDebutVersion', 'posteSource', 'tensionRaccordement', 'modeRaccordement', 'code_filiere', 'filiere', 'code_combustible', 'combustible', 'codes_combustibles_secondaires', 'combustibles_secondaires', 'code_technologie', 'technologie', 'type_stockage', 'puis_max_installee', 'puis_max_rac_charge', 'puis_max_charge', 'puis_max_rac', 'puis_max_installee_discharge', 'nbGroupes', 'nbInstallations', 'regime', 'energie_stockable', 'capaciteReservoir', 'hauteurChute', 'productible', 'debitMaximal', 'codeGestionnaire', 'gestionnaire', 'energie_annuelle_glissante_injectee', 'energie_annuelle_glissante_produite', 'energie_annuelle_glissante_soutiree', 'energie_annuelle_glissante_stockee']\n"
     ]
    }
   ],
   "source": [
    "print(df_cap_prod.columns.tolist())"
   ]
  },
  {
   "cell_type": "code",
   "execution_count": 11,
   "id": "6d936b7b-8d63-4cbd-a788-d2a843fba2b4",
   "metadata": {},
   "outputs": [],
   "source": [
    "# TRAITEMENT DES DONNEES DU REGISTRE df_cap_prod"
   ]
  },
  {
   "cell_type": "code",
   "execution_count": 12,
   "id": "5ca359e5-3142-4b23-9292-9a18670c1c64",
   "metadata": {},
   "outputs": [
    {
     "name": "stdout",
     "output_type": "stream",
     "text": [
      "<class 'pandas.core.frame.DataFrame'>\n",
      "Index: 71567 entries, 712 to 73692\n",
      "Data columns (total 11 columns):\n",
      " #   Column                        Non-Null Count  Dtype  \n",
      "---  ------                        --------------  -----  \n",
      " 0   code_EIC                      50282 non-null  object \n",
      " 1   region                        71536 non-null  object \n",
      " 2   date_raccordement             71305 non-null  object \n",
      " 3   date_deraccordement           40 non-null     object \n",
      " 4   date_mise_en_service          71189 non-null  object \n",
      " 5   filiere                       71567 non-null  object \n",
      " 6   puis_max_installee            71372 non-null  float64\n",
      " 7   puis_max_charge               3791 non-null   float64\n",
      " 8   puis_max_installee_discharge  3205 non-null   float64\n",
      " 9   energie_stockable             66846 non-null  float64\n",
      " 10  productible                   66837 non-null  float64\n",
      "dtypes: float64(5), object(6)\n",
      "memory usage: 6.6+ MB\n"
     ]
    }
   ],
   "source": [
    "#   Suppression des colonnes non utiles au projet, notamment celles précisant les localisations; la présence de doublons ayant été exclue\n",
    "colonnes_to_drop = [0,2, 3, 4, 5, 6, 7, 8, 9, 11, 12, 13, 17, 18, 19, 20, 21,23,24,25,26,27,28,29,31,33,35, 36, 37, 39, 40, 42, 43, 44,45,46,47,48]\n",
    "df_cap_prod.drop(columns = df_cap_prod.columns[colonnes_to_drop], inplace =True)\n",
    "\n",
    "df_cap_prod.info()"
   ]
  },
  {
   "cell_type": "code",
   "execution_count": 13,
   "id": "0828e8ef-b5ae-4cf2-9dbc-a94d9a991148",
   "metadata": {},
   "outputs": [
    {
     "data": {
      "text/plain": [
       "array(['Solaire', 'Hydraulique', 'Eolien', 'Thermique non renouvelable',\n",
       "       'Stockage non hydraulique', 'Bioénergies', 'Nucléaire',\n",
       "       'thermique', 'stockage_batterie', 'Energies Marines', 'Géothermie',\n",
       "       'eolien'], dtype=object)"
      ]
     },
     "execution_count": 13,
     "metadata": {},
     "output_type": "execute_result"
    }
   ],
   "source": [
    "df_cap_prod['filiere'].unique()"
   ]
  },
  {
   "cell_type": "code",
   "execution_count": 14,
   "id": "4d09abf5-f976-463b-8ecd-19baf0cd51ae",
   "metadata": {},
   "outputs": [
    {
     "data": {
      "text/plain": [
       "array(['Solaire', 'Hydraulique', 'Eolien', 'Thermique non renouvelable',\n",
       "       'Stockage non hydraulique', 'Bioénergies', 'Nucléaire',\n",
       "       'thermique', 'stockage_batterie', 'Energies Marines', 'Géothermie',\n",
       "       'eolien'], dtype=object)"
      ]
     },
     "execution_count": 14,
     "metadata": {},
     "output_type": "execute_result"
    }
   ],
   "source": [
    "df_cap_prod['filiere'].unique()"
   ]
  },
  {
   "cell_type": "code",
   "execution_count": 15,
   "id": "87aff595-6719-4fef-bf20-fea7bf2fd90b",
   "metadata": {},
   "outputs": [
    {
     "data": {
      "text/plain": [
       "array(['25/08/2008', '30/11/2006', '27/12/2022', ..., '27/01/2004',\n",
       "       '12/08/2005', '18/01/1900'], dtype=object)"
      ]
     },
     "execution_count": 15,
     "metadata": {},
     "output_type": "execute_result"
    }
   ],
   "source": [
    "df_cap_prod['date_raccordement'].unique()"
   ]
  },
  {
   "cell_type": "code",
   "execution_count": 16,
   "id": "c321b3bf-ff52-4797-8203-413c873506dc",
   "metadata": {},
   "outputs": [],
   "source": [
    "# GESTION DES DATES"
   ]
  },
  {
   "cell_type": "code",
   "execution_count": 17,
   "id": "47bf810b-30e6-49e2-bd4c-5137eda06f4d",
   "metadata": {},
   "outputs": [],
   "source": [
    "# Remplacement des valeurs spécifiques dans les colonnes de date\n",
    "liste_dates_replace = {'1893-01-01':'01/01/1893', '1897-03-21':'21/03/1897','1898-01-01':'01/01/1898'}\n",
    "df_cap_prod.replace(liste_dates_replace, inplace=True)"
   ]
  },
  {
   "cell_type": "code",
   "execution_count": 18,
   "id": "c20fb854-8dbd-4da4-b526-76d4fbce7993",
   "metadata": {},
   "outputs": [],
   "source": [
    "# Conversion des colonnes de dates en format datetime\n",
    "colonnes_a_convertir = ['date_raccordement', 'date_deraccordement', 'date_mise_en_service']"
   ]
  },
  {
   "cell_type": "code",
   "execution_count": 19,
   "id": "dc64059c-8844-445a-851e-f9451ad24baa",
   "metadata": {},
   "outputs": [],
   "source": [
    "# Conversion de toutes les dates avec gestion des formats et erreurs\n",
    "for colonne in colonnes_a_convertir:\n",
    "    df_cap_prod[colonne] = pd.to_datetime(df_cap_prod[colonne], dayfirst=True, errors='coerce')\n"
   ]
  },
  {
   "cell_type": "code",
   "execution_count": 20,
   "id": "9446a459-b27f-480f-b538-211cdce84017",
   "metadata": {},
   "outputs": [],
   "source": [
    "# Gestion des valeurs manquantes des colonnes de dates\n",
    "df_cap_prod.loc[df_cap_prod['date_raccordement'].isna(), 'date_raccordement'] = pd.to_datetime('1800-01-01')\n",
    "df_cap_prod.loc[df_cap_prod['date_deraccordement'].isna(), 'date_deraccordement'] = pd.to_datetime('2100-01-01')"
   ]
  },
  {
   "cell_type": "code",
   "execution_count": 21,
   "id": "674b07eb-45d0-4cbf-a8fe-b8f601021a4c",
   "metadata": {},
   "outputs": [],
   "source": [
    "# Remplacement des valeurs manquantes dans 'date_mise_en_service' par celles de 'date_raccordement'\n",
    "df_cap_prod['date_mise_en_service'] = df_cap_prod['date_mise_en_service'].fillna(df_cap_prod['date_raccordement'])\n"
   ]
  },
  {
   "cell_type": "code",
   "execution_count": 22,
   "id": "f412eb91-fda8-4802-9607-02b43de65e3f",
   "metadata": {},
   "outputs": [],
   "source": [
    "# Suppression des lignes où 'date_deraccordement' est inférieure ou égale à '01/01/2013'\n",
    "date_seuil = pd.to_datetime('01/01/2013', dayfirst=True)\n",
    "df_cap_prod = df_cap_prod[df_cap_prod['date_deraccordement'] > date_seuil]"
   ]
  },
  {
   "cell_type": "code",
   "execution_count": 23,
   "id": "503c947f-35e0-4b54-9e0f-d6188a1840f0",
   "metadata": {},
   "outputs": [],
   "source": [
    "# Suppression des lignes où 'date_raccordement' est supérieure ou égale à '31/12/2022'\n",
    "date_seuil2 = pd.to_datetime('31/12/2022', dayfirst=True)\n",
    "df_cap_prod = df_cap_prod[df_cap_prod['date_raccordement'] < date_seuil2]\n"
   ]
  },
  {
   "cell_type": "code",
   "execution_count": 24,
   "id": "ddfdba64-7745-4982-aae9-65b41d17c645",
   "metadata": {},
   "outputs": [],
   "source": [
    "# Suppression des lignes où 'date_raccordement' est supérieure ou égale à '31/12/2022'\n",
    "date_seuil2 = pd.to_datetime('31/12/2022', dayfirst=True)\n",
    "df_cap_prod = df_cap_prod[df_cap_prod['date_raccordement'] < date_seuil2]\n"
   ]
  },
  {
   "cell_type": "code",
   "execution_count": 25,
   "id": "7d03de3a-e59f-427c-982f-190cf771266d",
   "metadata": {},
   "outputs": [
    {
     "name": "stdout",
     "output_type": "stream",
     "text": [
      "code_EIC                                object\n",
      "region                                  object\n",
      "date_raccordement               datetime64[ns]\n",
      "date_deraccordement             datetime64[ns]\n",
      "date_mise_en_service            datetime64[ns]\n",
      "filiere                                 object\n",
      "puis_max_installee                     float64\n",
      "puis_max_charge                        float64\n",
      "puis_max_installee_discharge           float64\n",
      "energie_stockable                      float64\n",
      "productible                            float64\n",
      "dtype: object\n"
     ]
    }
   ],
   "source": [
    "# Vérification des colonnes après traitement\n",
    "print(df_cap_prod.dtypes)"
   ]
  },
  {
   "cell_type": "code",
   "execution_count": 26,
   "id": "30ec0fd6-81dd-458a-947e-3fc33155532e",
   "metadata": {},
   "outputs": [
    {
     "data": {
      "text/plain": [
       "array(['Solaire', 'Hydraulique', 'Eolien', 'Thermique non renouvelable',\n",
       "       'Stockage non hydraulique', 'Bioénergies', 'Nucléaire',\n",
       "       'thermique', 'stockage_batterie', 'Energies Marines', 'Géothermie',\n",
       "       'eolien'], dtype=object)"
      ]
     },
     "execution_count": 26,
     "metadata": {},
     "output_type": "execute_result"
    }
   ],
   "source": [
    "df_cap_prod['filiere'].unique()"
   ]
  },
  {
   "cell_type": "code",
   "execution_count": 27,
   "id": "22186fff-c37f-41df-8ad5-b9aac219b0c1",
   "metadata": {},
   "outputs": [],
   "source": [
    "#  GESTION DES COLONNES RENSEIGNANT LES COMBUSTIBLES"
   ]
  },
  {
   "cell_type": "code",
   "execution_count": 28,
   "id": "214ef871-e83c-4a2f-8d8f-f3fc2dfb4ad0",
   "metadata": {},
   "outputs": [
    {
     "name": "stdout",
     "output_type": "stream",
     "text": [
      "<class 'pandas.core.frame.DataFrame'>\n",
      "Index: 71532 entries, 712 to 73692\n",
      "Data columns (total 11 columns):\n",
      " #   Column                        Non-Null Count  Dtype         \n",
      "---  ------                        --------------  -----         \n",
      " 0   code_EIC                      50247 non-null  object        \n",
      " 1   region                        71501 non-null  object        \n",
      " 2   date_raccordement             71532 non-null  datetime64[ns]\n",
      " 3   date_deraccordement           71532 non-null  datetime64[ns]\n",
      " 4   date_mise_en_service          71532 non-null  datetime64[ns]\n",
      " 5   filiere                       71532 non-null  object        \n",
      " 6   puis_max_installee            71532 non-null  float64       \n",
      " 7   puis_max_charge               71532 non-null  float64       \n",
      " 8   puis_max_installee_discharge  71532 non-null  float64       \n",
      " 9   energie_stockable             71532 non-null  float64       \n",
      " 10  productible                   71532 non-null  float64       \n",
      "dtypes: datetime64[ns](3), float64(5), object(3)\n",
      "memory usage: 6.5+ MB\n"
     ]
    }
   ],
   "source": [
    "#           Remplacement des NaN des colonnes numériques par 0\n",
    "columns_to_replace2 = ['puis_max_installee','puis_max_charge','puis_max_installee_discharge',\n",
    "'energie_stockable','productible']\n",
    "df_cap_prod[columns_to_replace2] = df_cap_prod[columns_to_replace2].fillna(0)\n",
    "\n",
    "df_cap_prod.info()"
   ]
  },
  {
   "cell_type": "code",
   "execution_count": 29,
   "id": "88647644-2b08-410c-a412-17eb6e935112",
   "metadata": {},
   "outputs": [
    {
     "data": {
      "text/plain": [
       "code_EIC                        21285\n",
       "region                             31\n",
       "date_raccordement                   0\n",
       "date_deraccordement                 0\n",
       "date_mise_en_service                0\n",
       "filiere                             0\n",
       "puis_max_installee                  0\n",
       "puis_max_charge                     0\n",
       "puis_max_installee_discharge        0\n",
       "energie_stockable                   0\n",
       "productible                         0\n",
       "dtype: int64"
      ]
     },
     "execution_count": 29,
     "metadata": {},
     "output_type": "execute_result"
    }
   ],
   "source": [
    "df_cap_prod.isna().sum()"
   ]
  },
  {
   "cell_type": "code",
   "execution_count": 30,
   "id": "33ee8716-bcb4-4269-9611-7d5e0648d2d3",
   "metadata": {},
   "outputs": [
    {
     "data": {
      "text/plain": [
       "array(['Solaire', 'Hydraulique', 'Eolien', 'Thermique non renouvelable',\n",
       "       'Stockage non hydraulique', 'Bioénergies', 'Nucléaire',\n",
       "       'thermique', 'stockage_batterie', 'Energies Marines', 'Géothermie',\n",
       "       'eolien'], dtype=object)"
      ]
     },
     "execution_count": 30,
     "metadata": {},
     "output_type": "execute_result"
    }
   ],
   "source": [
    "df_cap_prod['filiere'].unique()"
   ]
  },
  {
   "cell_type": "code",
   "execution_count": 31,
   "id": "3c22573f-5efd-4671-ae31-735ad7d8d527",
   "metadata": {},
   "outputs": [],
   "source": [
    "# GESTION DES REGIONS\n",
    "    # Renommage des noms des régions de la colonne 'region' tels qu'ils le sont dans dataframe Eco2MixRégions traité\n",
    "dictionnaire_region= {\"Provence-Alpes-Côte d'Azur\":\"PROVENCE ALPES COTE D AZUR\",\n",
    "                      \"Bourgogne-Franche-Comté\":\"BOURGOGNE FRANCHE COMTE\",\n",
    "                      \"Bretagne\":\"BRETAGNE\",\n",
    "                      \"Normandie\":\"NORMANDIE\",\n",
    "                      \"Nouvelle-Aquitaine\":\"NOUVELLE AQUITAINE\",\n",
    "                      \"Hauts-de-France\":\"HAUTS DE FRANCE\",\n",
    "                      \"Île-de-France\":\"ILE DE FRANCE\",\n",
    "                      \"Auvergne-Rhône-Alpes\":\"AUVERGNE RHONE ALPES\",\n",
    "                      \"Grand Est\":\"GRAND EST\",\n",
    "                      \"Centre-Val de Loire\":\"CENTRE VAL DE LOIRE\",\n",
    "                      \"Occitanie\":\"OCCITANIE\",\n",
    "                      \"Pays de la Loire\":\"PAYS DE LA LOIRE\"}\n",
    "df_cap_prod['region']=df_cap_prod['region'].replace(dictionnaire_region)"
   ]
  },
  {
   "cell_type": "code",
   "execution_count": 32,
   "id": "e5003a61-2a00-4407-a49a-14ce258f8dfb",
   "metadata": {},
   "outputs": [],
   "source": [
    "# GESTION DES NOM DES FILIERES DE PRODUCTION "
   ]
  },
  {
   "cell_type": "code",
   "execution_count": 33,
   "id": "f96e376a-b36b-4f88-a9ab-856f7c607750",
   "metadata": {},
   "outputs": [
    {
     "name": "stdout",
     "output_type": "stream",
     "text": [
      "Valeurs uniques de la colonne 'filiere': ['Solaire' 'Hydraulique' 'Eolien' 'Thermique non renouvelable'\n",
      " 'Stockage non hydraulique' 'Bioénergies' 'Nucléaire' 'thermique'\n",
      " 'stockage_batterie' 'Energies Marines' 'Géothermie' 'eolien']\n",
      "Nombre de valeurs manquantes de la colonne 'filiere' : 0\n",
      "Nombre de valeurs manquantes de la colonne 'filiere' : 0\n"
     ]
    }
   ],
   "source": [
    "print(\"Valeurs uniques de la colonne 'filiere':\", df_cap_prod['filiere'].unique())\n",
    "\n",
    "print(\"Nombre de valeurs manquantes de la colonne 'filiere' :\",df_cap_prod['filiere'].isna().sum())\n",
    "df_cap_prod.dropna(subset=['filiere'], inplace=True)\n",
    "print(\"Nombre de valeurs manquantes de la colonne 'filiere' :\",df_cap_prod['filiere'].isna().sum())"
   ]
  },
  {
   "cell_type": "code",
   "execution_count": 34,
   "id": "c81b8ddd-9dd6-43e1-8e15-71416b43563c",
   "metadata": {},
   "outputs": [
    {
     "data": {
      "text/plain": [
       "array(['solaire', 'hydraulique', 'eolien', 'thermique',\n",
       "       'stockage_batterie', 'bioenergies', 'nucleaire', 'geothermie'],\n",
       "      dtype=object)"
      ]
     },
     "execution_count": 34,
     "metadata": {},
     "output_type": "execute_result"
    }
   ],
   "source": [
    " # Renommage des valeurs de 'filiere' pour équivalence avec les données de 'eco2mix-regional-cons-def'\n",
    "dictionnaire_region_abr= {'Solaire' :'solaire',\n",
    "                          'Hydraulique': 'hydraulique',\n",
    "                          'Eolien' : 'eolien',\n",
    "                          'Thermique non renouvelable':'thermique',\n",
    "                          'Stockage non hydraulique' : 'stockage_batterie',\n",
    "                          'Bioénergies' : 'bioenergies',\n",
    "                          'Nucléaire' : 'nucleaire',\n",
    "                          'Energies Marines' : 'hydraulique',\n",
    "                          'Géothermie':'geothermie'}\n",
    "df_cap_prod['filiere']=df_cap_prod['filiere'].replace(dictionnaire_region_abr)\n",
    "df_cap_prod['filiere'].unique()\n"
   ]
  },
  {
   "cell_type": "code",
   "execution_count": 35,
   "id": "6c78e58e-0b07-4be8-bef4-d13caa588cbb",
   "metadata": {},
   "outputs": [
    {
     "name": "stdout",
     "output_type": "stream",
     "text": [
      "<class 'pandas.core.frame.DataFrame'>\n",
      "Index: 71532 entries, 712 to 73692\n",
      "Data columns (total 11 columns):\n",
      " #   Column                        Non-Null Count  Dtype         \n",
      "---  ------                        --------------  -----         \n",
      " 0   code_EIC                      50247 non-null  object        \n",
      " 1   region                        71501 non-null  object        \n",
      " 2   date_raccordement             71532 non-null  datetime64[ns]\n",
      " 3   date_deraccordement           71532 non-null  datetime64[ns]\n",
      " 4   date_mise_en_service          71532 non-null  datetime64[ns]\n",
      " 5   filiere                       71532 non-null  object        \n",
      " 6   puis_max_installee            71532 non-null  float64       \n",
      " 7   puis_max_charge               71532 non-null  float64       \n",
      " 8   puis_max_installee_discharge  71532 non-null  float64       \n",
      " 9   energie_stockable             71532 non-null  float64       \n",
      " 10  productible                   71532 non-null  float64       \n",
      "dtypes: datetime64[ns](3), float64(5), object(3)\n",
      "memory usage: 6.5+ MB\n"
     ]
    }
   ],
   "source": [
    "df_cap_prod['date_raccordement'] = pd.to_datetime(df_cap_prod['date_raccordement'])\n",
    "df_cap_prod['date_deraccordement'] = pd.to_datetime(df_cap_prod['date_deraccordement'])\n",
    "df_cap_prod['date_mise_en_service'] = pd.to_datetime(df_cap_prod['date_mise_en_service'])\n",
    "\n",
    "df_cap_prod.info()\n"
   ]
  },
  {
   "cell_type": "code",
   "execution_count": 36,
   "id": "48914371-3ea1-4b14-a525-99b87562ef4e",
   "metadata": {},
   "outputs": [
    {
     "data": {
      "text/plain": [
       "0"
      ]
     },
     "execution_count": 36,
     "metadata": {},
     "output_type": "execute_result"
    }
   ],
   "source": [
    "df_cap_prod['date_deraccordement'].isna().sum()"
   ]
  },
  {
   "cell_type": "code",
   "execution_count": 37,
   "id": "8c11d110-2982-4022-97b0-3b2d98b77a64",
   "metadata": {},
   "outputs": [],
   "source": [
    "# ================================================= CALCUL DES CAPACITES INSTALLEES PAR JOUR, REGION ET FILIERE "
   ]
  },
  {
   "cell_type": "code",
   "execution_count": null,
   "id": "793712b1-5da2-4526-9c58-786ae9f22c41",
   "metadata": {},
   "outputs": [
    {
     "name": "stderr",
     "output_type": "stream",
     "text": [
      "Calcul en cours:   4%|▎         | 1860/52221 [01:54<52:34, 15.97it/s]  "
     ]
    }
   ],
   "source": [
    "# Création de la plage de dates\n",
    "dates = pd.date_range(start='2013-01-01', end='2023-12-31', freq='D').strftime('%Y-%m-%d')\n",
    "regions = df_cap_prod['region'].unique()\n",
    "filieres = ['thermique', 'nucleaire', 'eolien', 'solaire', 'hydraulique', 'bioenergies']\n",
    "\n",
    "def get_cap_prod_max(region, date, filiere):\n",
    "    mask = (\n",
    "        (df_cap_prod['region'] == region) &\n",
    "        (df_cap_prod['filiere'] == filiere) &\n",
    "        (df_cap_prod['date_raccordement'] <= date) &\n",
    "        (df_cap_prod['date_deraccordement'] > date)\n",
    "    )\n",
    "    return df_cap_prod.loc[mask, 'puis_max_installee'].sum() / 1000\n",
    "\n",
    "df_result_cap_prod = []\n",
    "\n",
    "total_iterations = len(regions) * len(dates)\n",
    "progress = tqdm(total=total_iterations, desc=\"Calcul en cours\")\n",
    "\n",
    "for region in regions:\n",
    "    for date in dates:\n",
    "        row = {'date': date, 'region': region}\n",
    "        for filiere in filieres:\n",
    "            row[f'cap_prod_max_{filiere}'] = get_cap_prod_max(region, date, filiere)\n",
    "        df_result_cap_prod.append(row)\n",
    "        progress.update(1)  # Mise à jour\n",
    "\n",
    "progress.close()\n",
    "\n",
    "df_result_cap_prod = pd.DataFrame(df_result_cap_prod)\n",
    "df_result_cap_prod.to_csv('df_result_cap_prod_2013_2023.csv', index=False)\n",
    "\n",
    "print(\"Exécution terminée avec succès.\")\n"
   ]
  },
  {
   "cell_type": "code",
   "execution_count": null,
   "id": "5e29f842-9f61-480f-be31-f0e356bb64f7",
   "metadata": {},
   "outputs": [],
   "source": [
    "# Export dans un classer Excel\n",
    "\n",
    "# Liste des filières à traiter\n",
    "filieres = ['thermique', 'nucleaire', 'eolien', 'solaire', 'hydraulique', 'bioenergies']\n",
    "\n",
    "# Création du fichier Excel avec une feuille par filière\n",
    "with pd.ExcelWriter('df_result_cap_prod_2013_2023.xlsx', engine='openpyxl') as writer:\n",
    "    for filiere in filieres:\n",
    "        # Création d'un sous-dataframe pour chaque filière\n",
    "        df_filiere = df_result_cap_prod.pivot(index='date', columns='region', values=f'cap_prod_max_{filiere}')\n",
    "        \n",
    "        # Ajout de la feuille dans le fichier Excel\n",
    "        df_filiere.to_excel(writer, sheet_name=filiere)\n",
    "\n",
    "print(\"Fichier Excel généré avec succès.\")"
   ]
  },
  {
   "cell_type": "code",
   "execution_count": null,
   "id": "57c792ef-a772-401e-99d6-34803b2cb618",
   "metadata": {},
   "outputs": [],
   "source": [
    "df_result_cap_prod.info()"
   ]
  },
  {
   "cell_type": "code",
   "execution_count": null,
   "id": "be44ec98-7e55-4fb7-bfdc-def208d9d21b",
   "metadata": {},
   "outputs": [],
   "source": [
    "# Export des 100 premières lignes dans un nouveau fichier CSV pour aperçu\n",
    "df_result_cap_prod_head = df_result_cap_prod.head(100)\n",
    "df_result_cap_prod_head.to_csv('df_result_cap_prod_first_100_lines.csv', sep=';', encoding='latin-1', index=False)"
   ]
  }
 ],
 "metadata": {
  "kernelspec": {
   "display_name": "Python 3 (ipykernel)",
   "language": "python",
   "name": "python3"
  },
  "language_info": {
   "codemirror_mode": {
    "name": "ipython",
    "version": 3
   },
   "file_extension": ".py",
   "mimetype": "text/x-python",
   "name": "python",
   "nbconvert_exporter": "python",
   "pygments_lexer": "ipython3",
   "version": "3.12.9"
  }
 },
 "nbformat": 4,
 "nbformat_minor": 5
}
